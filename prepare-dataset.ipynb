version https://git-lfs.github.com/spec/v1
oid sha256:fde0c30508c76edbdb3fd996443dcbcdf53543cd2625d1192da12197e817e096
size 506587
