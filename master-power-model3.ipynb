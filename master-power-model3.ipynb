version https://git-lfs.github.com/spec/v1
oid sha256:f5b9a25070139946c221ba712a550b18a577e7bd99c50eeab0256b098209fd3c
size 2872140
