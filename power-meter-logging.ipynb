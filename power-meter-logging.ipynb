{
 "cells": [
  {
   "cell_type": "code",
   "execution_count": 1,
   "metadata": {},
   "outputs": [],
   "source": [
    "import pandas as pd\n",
    "import matplotlib.pyplot as plt"
   ]
  },
  {
   "cell_type": "code",
   "execution_count": 6,
   "metadata": {},
   "outputs": [],
   "source": [
    "df1 = pd.read_csv(\"sample1.csv\")"
   ]
  },
  {
   "cell_type": "code",
   "execution_count": 7,
   "metadata": {},
   "outputs": [],
   "source": [
    "df2 = pd.read_csv(\"sample2.csv\")"
   ]
  },
  {
   "cell_type": "code",
   "execution_count": 41,
   "metadata": {},
   "outputs": [],
   "source": [
    "pm1 = df1.to_dict(\"records\")"
   ]
  },
  {
   "cell_type": "code",
   "execution_count": 42,
   "metadata": {},
   "outputs": [],
   "source": [
    "pm2 = df2.to_dict(\"records\")"
   ]
  },
  {
   "cell_type": "code",
   "execution_count": 43,
   "metadata": {},
   "outputs": [
    {
     "data": {
      "text/plain": [
       "([{'time': '2022-11-02 01:43:39.059907', 'id': 0, 'power': 119.2},\n",
       "  {'time': '2022-11-02 01:43:40.051878', 'id': 1, 'power': 119.3},\n",
       "  {'time': '2022-11-02 01:43:41.059580', 'id': 2, 'power': 119.5},\n",
       "  {'time': '2022-11-02 01:43:42.066487', 'id': 3, 'power': 119.5},\n",
       "  {'time': '2022-11-02 01:43:43.058802', 'id': 4, 'power': 119.6},\n",
       "  {'time': '2022-11-02 01:43:44.050895', 'id': 5, 'power': 119.7},\n",
       "  {'time': '2022-11-02 01:43:45.058907', 'id': 6, 'power': 119.8},\n",
       "  {'time': '2022-11-02 01:43:46.066620', 'id': 7, 'power': 119.8},\n",
       "  {'time': '2022-11-02 01:43:47.059056', 'id': 8, 'power': 119.9},\n",
       "  {'time': '2022-11-02 01:43:48.050072', 'id': 9, 'power': 119.9},\n",
       "  {'time': '2022-11-02 01:43:49.058027', 'id': 10, 'power': 120.0}],\n",
       " [{'time': '2022-11-02 01:43:38.581392', 'id': 0, 'power': 118.9},\n",
       "  {'time': '2022-11-02 01:43:39.573861', 'id': 1, 'power': 119.0},\n",
       "  {'time': '2022-11-02 01:43:40.581710', 'id': 2, 'power': 119.2},\n",
       "  {'time': '2022-11-02 01:43:41.573842', 'id': 3, 'power': 119.3},\n",
       "  {'time': '2022-11-02 01:43:42.580537', 'id': 4, 'power': 119.4},\n",
       "  {'time': '2022-11-02 01:43:43.572844', 'id': 5, 'power': 119.4},\n",
       "  {'time': '2022-11-02 01:43:44.580453', 'id': 6, 'power': 119.5},\n",
       "  {'time': '2022-11-02 01:43:45.572813', 'id': 7, 'power': 119.6},\n",
       "  {'time': '2022-11-02 01:43:46.580483', 'id': 8, 'power': 119.6},\n",
       "  {'time': '2022-11-02 01:43:47.572023', 'id': 9, 'power': 119.7},\n",
       "  {'time': '2022-11-02 01:43:48.579537', 'id': 10, 'power': 119.7}])"
      ]
     },
     "execution_count": 43,
     "metadata": {},
     "output_type": "execute_result"
    }
   ],
   "source": [
    "pm1, pm2"
   ]
  },
  {
   "cell_type": "code",
   "execution_count": 8,
   "metadata": {},
   "outputs": [],
   "source": [
    "df3 = pd.concat([df1['power'], df2['power']], axis=1)\n",
    "df3.columns = ['power1', 'power2']"
   ]
  },
  {
   "cell_type": "code",
   "execution_count": 9,
   "metadata": {},
   "outputs": [
    {
     "data": {
      "text/html": [
       "<div>\n",
       "<style scoped>\n",
       "    .dataframe tbody tr th:only-of-type {\n",
       "        vertical-align: middle;\n",
       "    }\n",
       "\n",
       "    .dataframe tbody tr th {\n",
       "        vertical-align: top;\n",
       "    }\n",
       "\n",
       "    .dataframe thead th {\n",
       "        text-align: right;\n",
       "    }\n",
       "</style>\n",
       "<table border=\"1\" class=\"dataframe\">\n",
       "  <thead>\n",
       "    <tr style=\"text-align: right;\">\n",
       "      <th></th>\n",
       "      <th>power1</th>\n",
       "      <th>power2</th>\n",
       "    </tr>\n",
       "  </thead>\n",
       "  <tbody>\n",
       "    <tr>\n",
       "      <th>0</th>\n",
       "      <td>124.0</td>\n",
       "      <td>123.5</td>\n",
       "    </tr>\n",
       "    <tr>\n",
       "      <th>1</th>\n",
       "      <td>123.9</td>\n",
       "      <td>123.6</td>\n",
       "    </tr>\n",
       "    <tr>\n",
       "      <th>2</th>\n",
       "      <td>123.8</td>\n",
       "      <td>123.5</td>\n",
       "    </tr>\n",
       "    <tr>\n",
       "      <th>3</th>\n",
       "      <td>124.0</td>\n",
       "      <td>123.5</td>\n",
       "    </tr>\n",
       "    <tr>\n",
       "      <th>4</th>\n",
       "      <td>124.1</td>\n",
       "      <td>123.6</td>\n",
       "    </tr>\n",
       "    <tr>\n",
       "      <th>...</th>\n",
       "      <td>...</td>\n",
       "      <td>...</td>\n",
       "    </tr>\n",
       "    <tr>\n",
       "      <th>68</th>\n",
       "      <td>125.4</td>\n",
       "      <td>124.3</td>\n",
       "    </tr>\n",
       "    <tr>\n",
       "      <th>69</th>\n",
       "      <td>125.4</td>\n",
       "      <td>124.4</td>\n",
       "    </tr>\n",
       "    <tr>\n",
       "      <th>70</th>\n",
       "      <td>125.1</td>\n",
       "      <td>124.5</td>\n",
       "    </tr>\n",
       "    <tr>\n",
       "      <th>71</th>\n",
       "      <td>125.1</td>\n",
       "      <td>124.2</td>\n",
       "    </tr>\n",
       "    <tr>\n",
       "      <th>72</th>\n",
       "      <td>125.2</td>\n",
       "      <td>124.4</td>\n",
       "    </tr>\n",
       "  </tbody>\n",
       "</table>\n",
       "<p>73 rows × 2 columns</p>\n",
       "</div>"
      ],
      "text/plain": [
       "    power1  power2\n",
       "0    124.0   123.5\n",
       "1    123.9   123.6\n",
       "2    123.8   123.5\n",
       "3    124.0   123.5\n",
       "4    124.1   123.6\n",
       "..     ...     ...\n",
       "68   125.4   124.3\n",
       "69   125.4   124.4\n",
       "70   125.1   124.5\n",
       "71   125.1   124.2\n",
       "72   125.2   124.4\n",
       "\n",
       "[73 rows x 2 columns]"
      ]
     },
     "execution_count": 9,
     "metadata": {},
     "output_type": "execute_result"
    }
   ],
   "source": [
    "df3"
   ]
  },
  {
   "cell_type": "code",
   "execution_count": 10,
   "metadata": {},
   "outputs": [
    {
     "data": {
      "image/png": "[encoded data removed]",
      "text/plain": [
       "<Figure size 432x288 with 1 Axes>"
      ]
     },
     "metadata": {
      "needs_background": "light"
     },
     "output_type": "display_data"
    }
   ],
   "source": [
    "plt.plot(df3)\n",
    "plt.legend(df3.columns)\n",
    "plt.ylabel(\"Power in Watts\")\n",
    "plt.xlabel(\"Time in Seconds\")\n",
    "plt.ylim(ymin=0)\n",
    "plt.show()"
   ]
  },
  {
   "cell_type": "code",
   "execution_count": 11,
   "metadata": {},
   "outputs": [
    {
     "data": {
      "image/png": "[encoded data removed]",
      "text/plain": [
       "<Figure size 432x288 with 1 Axes>"
      ]
     },
     "metadata": {
      "needs_background": "light"
     },
     "output_type": "display_data"
    }
   ],
   "source": [
    "plt.plot(df1['power'] + df2['power'])\n",
    "plt.legend(['total power'])\n",
    "plt.ylabel(\"Power in Watts\")\n",
    "plt.xlabel(\"Time in Seconds\")\n",
    "plt.ylim(ymin=0)\n",
    "plt.show()"
   ]
  },
  {
   "cell_type": "code",
   "execution_count": 12,
   "metadata": {},
   "outputs": [],
   "source": [
    "df1a = pd.read_csv(\"sample1a.csv\")\n",
    "df2a = pd.read_csv(\"sample2a.csv\")\n",
    "df3a = pd.concat([df1a['power'], df2a['power']], axis=1)\n",
    "df3a.columns = ['power1', 'power2']"
   ]
  },
  {
   "cell_type": "code",
   "execution_count": 13,
   "metadata": {},
   "outputs": [
    {
     "data": {
      "image/png": "[encoded data removed]",
      "text/plain": [
       "<Figure size 432x288 with 1 Axes>"
      ]
     },
     "metadata": {
      "needs_background": "light"
     },
     "output_type": "display_data"
    }
   ],
   "source": [
    "plt.plot(df3a)\n",
    "plt.legend(df3a.columns)\n",
    "plt.ylabel(\"Power in Watts\")\n",
    "plt.xlabel(\"Time in Seconds\")\n",
    "plt.ylim(ymin=0)\n",
    "plt.show()"
   ]
  },
  {
   "cell_type": "code",
   "execution_count": 14,
   "metadata": {},
   "outputs": [
    {
     "data": {
      "image/png": "[encoded data removed]",
      "text/plain": [
       "<Figure size 432x288 with 1 Axes>"
      ]
     },
     "metadata": {
      "needs_background": "light"
     },
     "output_type": "display_data"
    }
   ],
   "source": [
    "plt.plot(df1a['power'] + df2a['power'])\n",
    "plt.legend(['total power'])\n",
    "plt.ylabel(\"Power in Watts\")\n",
    "plt.xlabel(\"Time in Seconds\")\n",
    "plt.ylim(ymin=0)\n",
    "plt.show()"
   ]
  },
  {
   "cell_type": "code",
   "execution_count": 25,
   "metadata": {},
   "outputs": [
    {
     "data": {
      "image/png": "[encoded data removed]",
      "text/plain": [
       "<Figure size 432x288 with 1 Axes>"
      ]
     },
     "metadata": {
      "needs_background": "light"
     },
     "output_type": "display_data"
    }
   ],
   "source": [
    "tdf = pd.DataFrame.from_dict({'tot_pow1': df1['power'] + df2['power'], 'tot_pow2': (df1a['power'] + df2a['power']).shift(-2).dropna(how='all')})\n",
    "plt.plot(tdf)\n",
    "plt.legend(tdf.columns)\n",
    "plt.ylabel(\"Power in Watts\")\n",
    "plt.xlabel(\"Time in Seconds\")\n",
    "plt.ylim(ymin=0)\n",
    "plt.show()"
   ]
  },
  {
   "cell_type": "code",
   "execution_count": 22,
   "metadata": {},
   "outputs": [
    {
     "data": {
      "text/plain": [
       "0     244.0\n",
       "1     243.8\n",
       "2     303.1\n",
       "3     337.2\n",
       "4     336.3\n",
       "      ...  \n",
       "69    250.2\n",
       "70    250.0\n",
       "71    249.7\n",
       "72    249.6\n",
       "73    249.6\n",
       "Name: power, Length: 74, dtype: float64"
      ]
     },
     "execution_count": 22,
     "metadata": {},
     "output_type": "execute_result"
    }
   ],
   "source": [
    "(df1a['power'] + df2a['power']).shift(-5).dropna(how='all')"
   ]
  },
  {
   "cell_type": "code",
   "execution_count": null,
   "metadata": {},
   "outputs": [],
   "source": []
  }
 ],
 "metadata": {
  "kernelspec": {
   "display_name": "Python 3 (ipykernel)",
   "language": "python",
   "name": "python3"
  },
  "language_info": {
   "codemirror_mode": {
    "name": "ipython",
    "version": 3
   },
   "file_extension": ".py",
   "mimetype": "text/x-python",
   "name": "python",
   "nbconvert_exporter": "python",
   "pygments_lexer": "ipython3",
   "version": "3.9.12"
  }
 },
 "nbformat": 4,
 "nbformat_minor": 4
}
