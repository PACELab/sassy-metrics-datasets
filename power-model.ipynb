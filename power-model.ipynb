version https://git-lfs.github.com/spec/v1
oid sha256:6c28e9214d49b61fa4728972c87d51eb1399f0748f087eea6d4006f50b4c6eb7
size 706930
