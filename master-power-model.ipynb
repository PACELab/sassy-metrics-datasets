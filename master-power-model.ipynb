version https://git-lfs.github.com/spec/v1
oid sha256:e41cd55c120eafbc4c8b34507516da59a614e5d68adda6fbd1920c4dc1dbfaa5
size 2811487
