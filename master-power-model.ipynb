version https://git-lfs.github.com/spec/v1
oid sha256:cfbfdca629d2121520a6009e9bc511d935535e9a96adac4574e42241db47ee81
size 892696
